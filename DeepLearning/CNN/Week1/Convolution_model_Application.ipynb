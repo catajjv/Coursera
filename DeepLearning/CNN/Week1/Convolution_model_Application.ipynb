{
 "cells": [
  {
   "cell_type": "markdown",
   "metadata": {},
   "source": [
    "# Convolutional Neural Networks: Application\n",
    "\n",
    "Welcome to Course 4's second assignment! In this notebook, you will:\n",
    "\n",
    "- Create a mood classifer using the TF Keras Sequential API\n",
    "- Build a ConvNet to identify sign language digits using the TF Keras Functional API\n",
    "\n",
    "**After this assignment you will be able to:**\n",
    "\n",
    "- Build and train a ConvNet in TensorFlow for a __binary__ classification problem\n",
    "- Build and train a ConvNet in TensorFlow for a __multiclass__ classification problem\n",
    "- Explain different use cases for the Sequential and Functional APIs\n",
    "\n",
    "To complete this assignment, you should already be familiar with TensorFlow. If you are not, please refer back to the **TensorFlow Tutorial** of the third week of Course 2 (\"**Improving deep neural networks**\").\n",
    "\n",
    "## Important Note on Submission to the AutoGrader\n",
    "\n",
    "Before submitting your assignment to the AutoGrader, please make sure you are not doing the following:\n",
    "\n",
    "1. You have not added any _extra_ `print` statement(s) in the assignment.\n",
    "2. You have not added any _extra_ code cell(s) in the assignment.\n",
    "3. You have not changed any of the function parameters.\n",
    "4. You are not using any global variables inside your graded exercises. Unless specifically instructed to do so, please refrain from it and use the local variables instead.\n",
    "5. You are not changing the assignment code where it is not required, like creating _extra_ variables.\n",
    "\n",
    "If you do any of the following, you will get something like, `Grader not found` (or similarly unexpected) error upon submitting your assignment. Before asking for help/debugging the errors in your assignment, check for these first. If this is the case, and you don't remember the changes you have made, you can get a fresh copy of the assignment by following these [instructions](https://www.coursera.org/learn/convolutional-neural-networks/supplement/DS4yP/h-ow-to-refresh-your-workspace)."
   ]
  },
  {
   "cell_type": "markdown",
   "metadata": {},
   "source": [
    "## Table of Contents\n",
    "\n",
    "- [1 - Packages](#1)\n",
    "    - [1.1 - Load the Data and Split the Data into Train/Test Sets](#1-1)\n",
    "- [2 - Layers in TF Keras](#2)\n",
    "- [3 - The Sequential API](#3)\n",
    "    - [3.1 - Create the Sequential Model](#3-1)\n",
    "        - [Exercise 1 - happyModel](#ex-1)\n",
    "    - [3.2 - Train and Evaluate the Model](#3-2)\n",
    "- [4 - The Functional API](#4)\n",
    "    - [4.1 - Load the SIGNS Dataset](#4-1)\n",
    "    - [4.2 - Split the Data into Train/Test Sets](#4-2)\n",
    "    - [4.3 - Forward Propagation](#4-3)\n",
    "        - [Exercise 2 - convolutional_model](#ex-2)\n",
    "    - [4.4 - Train the Model](#4-4)\n",
    "- [5 - History Object](#5)\n",
    "- [6 - Bibliography](#6)"
   ]
  },
  {
   "cell_type": "markdown",
   "metadata": {},
   "source": [
    "<a name='1'></a>\n",
    "## 1 - Packages\n",
    "\n",
    "As usual, begin by loading in the packages."
   ]
  },
  {
   "cell_type": "code",
   "execution_count": 1,
   "metadata": {},
   "outputs": [],
   "source": [
    "import math\n",
    "import numpy as np\n",
    "import h5py\n",
    "import matplotlib.pyplot as plt\n",
    "from matplotlib.pyplot import imread\n",
    "import scipy\n",
    "from PIL import Image\n",
    "import pandas as pd\n",
    "import tensorflow as tf\n",
    "import tensorflow.keras.layers as tfl\n",
    "from tensorflow.python.framework import ops\n",
    "from cnn_utils import *\n",
    "from test_utils import summary, comparator\n",
    "\n",
    "%matplotlib inline\n",
    "np.random.seed(1)"
   ]
  },
  {
   "cell_type": "markdown",
   "metadata": {},
   "source": [
    "<a name='1-1'></a>\n",
    "### 1.1 - Load the Data and Split the Data into Train/Test Sets\n",
    "\n",
    "You'll be using the Happy House dataset for this part of the assignment, which contains images of peoples' faces. Your task will be to build a ConvNet that determines whether the people in the images are smiling or not -- because they only get to enter the house if they're smiling!  "
   ]
  },
  {
   "cell_type": "code",
   "execution_count": 2,
   "metadata": {},
   "outputs": [
    {
     "name": "stdout",
     "output_type": "stream",
     "text": [
      "number of training examples = 600\n",
      "number of test examples = 150\n",
      "X_train shape: (600, 64, 64, 3)\n",
      "Y_train shape: (600, 1)\n",
      "X_test shape: (150, 64, 64, 3)\n",
      "Y_test shape: (150, 1)\n"
     ]
    }
   ],
   "source": [
    "X_train_orig, Y_train_orig, X_test_orig, Y_test_orig, classes = load_happy_dataset()\n",
    "\n",
    "# Normalize image vectors\n",
    "X_train = X_train_orig/255.\n",
    "X_test = X_test_orig/255.\n",
    "\n",
    "# Reshape\n",
    "Y_train = Y_train_orig.T\n",
    "Y_test = Y_test_orig.T\n",
    "\n",
    "print (\"number of training examples = \" + str(X_train.shape[0]))\n",
    "print (\"number of test examples = \" + str(X_test.shape[0]))\n",
    "print (\"X_train shape: \" + str(X_train.shape))\n",
    "print (\"Y_train shape: \" + str(Y_train.shape))\n",
    "print (\"X_test shape: \" + str(X_test.shape))\n",
    "print (\"Y_test shape: \" + str(Y_test.shape))"
   ]
  },
  {
   "cell_type": "markdown",
   "metadata": {},
   "source": [
    "You can display the images contained in the dataset. Images are **64x64** pixels in RGB format (3 channels)."
   ]
  },
  {
   "cell_type": "code",
   "execution_count": 3,
   "metadata": {},
   "outputs": [
    {
     "data": {
      "image/png": "[encoded data removed]",
      "text/plain": [
       "<Figure size 432x288 with 1 Axes>"
      ]
     },
     "metadata": {
      "needs_background": "light"
     },
     "output_type": "display_data"
    }
   ],
   "source": [
    "index = 12\n",
    "plt.imshow(X_train_orig[index]) #display sample training image\n",
    "plt.show()"
   ]
  },
  {
   "cell_type": "markdown",
   "metadata": {},
   "source": [
    "<a name='2'></a>\n",
    "## 2 - Layers in TF Keras \n",
    "\n",
    "In the previous assignment, you created layers manually in numpy. In TF Keras, you don't have to write code directly to create layers. Rather, TF Keras has pre-defined layers you can use. \n",
    "\n",
    "When you create a layer in TF Keras, you are creating a function that takes some input and transforms it into an output you can reuse later. Nice and easy! "
   ]
  },
  {
   "cell_type": "markdown",
   "metadata": {},
   "source": [
    "<a name='3'></a>\n",
    "## 3 - The Sequential API\n",
    "\n",
    "In the previous assignment, you built helper functions using `numpy` to understand the mechanics behind convolutional neural networks. Most practical applications of deep learning today are built using programming frameworks, which have many built-in functions you can simply call. Keras is a high-level abstraction built on top of TensorFlow, which allows for even more simplified and optimized model creation and training. \n",
    "\n",
    "For the first part of this assignment, you'll create a model using TF Keras' Sequential API, which allows you to build layer by layer, and is ideal for building models where each layer has **exactly one** input tensor and **one** output tensor. \n",
    "\n",
    "As you'll see, using the Sequential API is simple and straightforward, but is only appropriate for simpler, more straightforward tasks. Later in this notebook you'll spend some time building with a more flexible, powerful alternative: the Functional API. \n",
    " "
   ]
  },
  {
   "cell_type": "markdown",
   "metadata": {},
   "source": [
    "<a name='3-1'></a>\n",
    "### 3.1 - Create the Sequential Model\n",
    "\n",
    "As mentioned earlier, the TensorFlow Keras Sequential API can be used to build simple models with layer operations that proceed in a sequential order. \n",
    "\n",
    "You can also add layers incrementally to a Sequential model with the `.add()` method, or remove them using the `.pop()` method, much like you would in a regular Python list.\n",
    "\n",
    "Actually, you can think of a Sequential model as behaving like a list of layers. Like Python lists, Sequential layers are ordered, and the order in which they are specified matters.  If your model is non-linear or contains layers with multiple inputs or outputs, a Sequential model wouldn't be the right choice!\n",
    "\n",
    "For any layer construction in Keras, you'll need to specify the input shape in advance. This is because in Keras, the shape of the weights is based on the shape of the inputs. The weights are only created when the model first sees some input data. Sequential models can be created by passing a list of layers to the Sequential constructor, like you will do in the next assignment.\n",
    "\n",
    "<a name='ex-1'></a>\n",
    "### Exercise 1 - happyModel\n",
    "\n",
    "Implement the `happyModel` function below to build the following model: `ZEROPAD2D -> CONV2D -> BATCHNORM -> RELU -> MAXPOOL -> FLATTEN -> DENSE`. Take help from [tf.keras.layers](https://www.tensorflow.org/api_docs/python/tf/keras/layers) \n",
    "\n",
    "Also, plug in the following parameters for all the steps:\n",
    "\n",
    " - [ZeroPadding2D](https://www.tensorflow.org/api_docs/python/tf/keras/layers/ZeroPadding2D): padding 3, input shape 64 x 64 x 3\n",
    " - [Conv2D](https://www.tensorflow.org/api_docs/python/tf/keras/layers/Conv2D): Use 32 7x7 filters, stride 1\n",
    " - [BatchNormalization](https://www.tensorflow.org/api_docs/python/tf/keras/layers/BatchNormalization): for axis 3\n",
    " - [ReLU](https://www.tensorflow.org/api_docs/python/tf/keras/layers/ReLU)\n",
    " - [MaxPool2D](https://www.tensorflow.org/api_docs/python/tf/keras/layers/MaxPool2D): Using default parameters\n",
    " - [Flatten](https://www.tensorflow.org/api_docs/python/tf/keras/layers/Flatten) the previous output.\n",
    " - Fully-connected ([Dense](https://www.tensorflow.org/api_docs/python/tf/keras/layers/Dense)) layer: Apply a fully connected layer with 1 neuron and a sigmoid activation. \n",
    " \n",
    " \n",
    " **Hint:**\n",
    " \n",
    " Use **tfl** as shorthand for **tensorflow.keras.layers**"
   ]
  },
  {
   "cell_type": "code",
   "execution_count": 4,
   "metadata": {
    "deletable": false,
    "nbgrader": {
     "cell_type": "code",
     "checksum": "95d28b191f257bdd5b70c7b8952559d5",
     "grade": false,
     "grade_id": "cell-0e56d3fc28b69aec",
     "locked": false,
     "schema_version": 3,
     "solution": true,
     "task": false
    }
   },
   "outputs": [],
   "source": [
    "# GRADED FUNCTION: happyModel\n",
    "\n",
    "def happyModel():\n",
    "    \"\"\"\n",
    "    Implements the forward propagation for the binary classification model:\n",
    "    ZEROPAD2D -> CONV2D -> BATCHNORM -> RELU -> MAXPOOL -> FLATTEN -> DENSE\n",
    "    \n",
    "    Note that for simplicity and grading purposes, you'll hard-code all the values\n",
    "    such as the stride and kernel (filter) sizes. \n",
    "    Normally, functions should take these values as function parameters.\n",
    "    \n",
    "    Arguments:\n",
    "    None\n",
    "\n",
    "    Returns:\n",
    "    model -- TF Keras model (object containing the information for the entire training process) \n",
    "    \"\"\"\n",
    "    model = tf.keras.Sequential([\n",
    "                        # YOUR CODE STARTS HERE\n",
    "\n",
    "            tfl.ZeroPadding2D(padding=(3, 3), input_shape=(64, 64, 3)),\n",
    "            ## Conv2D with 32 7x7 filters and stride of 1\n",
    "            tfl.Conv2D(32, (7,7)),\n",
    "            ## BatchNormalization for axis 3\n",
    "            tfl.BatchNormalization(axis=-1),\n",
    "            ## ReLU\n",
    "            tfl.ReLU(),\n",
    "            ## Max Pooling 2D with default parameters\n",
    "            tfl.MaxPool2D(),\n",
    "            ## Flatten layer\n",
    "            tfl.Flatten(),\n",
    "            ## Dense layer with 1 unit for output & 'sigmoid' activation\n",
    "            tfl.Dense(1, activation='sigmoid')\n",
    "\n",
    "            \n",
    "            \n",
    "            \n",
    "            # YOUR CODE ENDS HERE\n",
    "        ])\n",
    "    \n",
    "    return model"
   ]
  },
  {
   "cell_type": "code",
   "execution_count": 5,
   "metadata": {
    "deletable": false,
    "editable": false,
    "nbgrader": {
     "cell_type": "code",
     "checksum": "8d3575c950e2e78149be2d05d671c80d",
     "grade": true,
     "grade_id": "cell-e3e1046e5c33d775",
     "locked": true,
     "points": 10,
     "schema_version": 3,
     "solution": false,
     "task": false
    }
   },
   "outputs": [
    {
     "name": "stdout",
     "output_type": "stream",
     "text": [
      "['ZeroPadding2D', (None, 70, 70, 3), 0, ((3, 3), (3, 3))]\n",
      "['Conv2D', (None, 64, 64, 32), 4736, 'valid', 'linear', 'GlorotUniform']\n",
      "['BatchNormalization', (None, 64, 64, 32), 128]\n",
      "['ReLU', (None, 64, 64, 32), 0]\n",
      "['MaxPooling2D', (None, 32, 32, 32), 0, (2, 2), (2, 2), 'valid']\n",
      "['Flatten', (None, 32768), 0]\n",
      "['Dense', (None, 1), 32769, 'sigmoid']\n",
      "\u001b[32mAll tests passed!\u001b[0m\n"
     ]
    }
   ],
   "source": [
    "happy_model = happyModel()\n",
    "# Print a summary for each layer\n",
    "for layer in summary(happy_model):\n",
    "    print(layer)\n",
    "    \n",
    "output = [['ZeroPadding2D', (None, 70, 70, 3), 0, ((3, 3), (3, 3))],\n",
    "            ['Conv2D', (None, 64, 64, 32), 4736, 'valid', 'linear', 'GlorotUniform'],\n",
    "            ['BatchNormalization', (None, 64, 64, 32), 128],\n",
    "            ['ReLU', (None, 64, 64, 32), 0],\n",
    "            ['MaxPooling2D', (None, 32, 32, 32), 0, (2, 2), (2, 2), 'valid'],\n",
    "            ['Flatten', (None, 32768), 0],\n",
    "            ['Dense', (None, 1), 32769, 'sigmoid']]\n",
    "    \n",
    "comparator(summary(happy_model), output)"
   ]
  },
  {
   "cell_type": "markdown",
   "metadata": {},
   "source": [
    "Now that your model is created, you can compile it for training with an optimizer and loss of your choice. When the string `accuracy` is specified as a metric, the type of accuracy used will be automatically converted based on the loss function used. This is one of the many optimizations built into TensorFlow that make your life easier! If you'd like to read more on how the compiler operates, check the docs [here](https://www.tensorflow.org/api_docs/python/tf/keras/Model#compile)."
   ]
  },
  {
   "cell_type": "code",
   "execution_count": 6,
   "metadata": {},
   "outputs": [],
   "source": [
    "happy_model.compile(optimizer='adam',\n",
    "                   loss='binary_crossentropy',\n",
    "                   metrics=['accuracy'])"
   ]
  },
  {
   "cell_type": "markdown",
   "metadata": {},
   "source": [
    "It's time to check your model's parameters with the `.summary()` method. This will display the types of layers you have, the shape of the outputs, and how many parameters are in each layer. "
   ]
  },
  {
   "cell_type": "code",
   "execution_count": 7,
   "metadata": {},
   "outputs": [
    {
     "name": "stdout",
     "output_type": "stream",
     "text": [
      "Model: \"sequential\"\n",
      "_________________________________________________________________\n",
      " Layer (type)                Output Shape              Param #   \n",
      "=================================================================\n",
      " zero_padding2d (ZeroPadding  (None, 70, 70, 3)        0         \n",
      " 2D)                                                             \n",
      "                                                                 \n",
      " conv2d (Conv2D)             (None, 64, 64, 32)        4736      \n",
      "                                                                 \n",
      " batch_normalization (BatchN  (None, 64, 64, 32)       128       \n",
      " ormalization)                                                   \n",
      "                                                                 \n",
      " re_lu (ReLU)                (None, 64, 64, 32)        0         \n",
      "                                                                 \n",
      " max_pooling2d (MaxPooling2D  (None, 32, 32, 32)       0         \n",
      " )                                                               \n",
      "                                                                 \n",
      " flatten (Flatten)           (None, 32768)             0         \n",
      "                                                                 \n",
      " dense (Dense)               (None, 1)                 32769     \n",
      "                                                                 \n",
      "=================================================================\n",
      "Total params: 37,633\n",
      "Trainable params: 37,569\n",
      "Non-trainable params: 64\n",
      "_________________________________________________________________\n"
     ]
    }
   ],
   "source": [
    "happy_model.summary()"
   ]
  },
  {
   "cell_type": "code",
   "execution_count": 8,
   "metadata": {},
   "outputs": [
    {
     "data": {
      "image/png": "[encoded data removed]",
      "text/plain": [
       "<IPython.core.display.Image object>"
      ]
     },
     "execution_count": 8,
     "metadata": {},
     "output_type": "execute_result"
    }
   ],
   "source": [
    "from tensorflow.keras.utils import plot_model\n",
    "plot_model(happy_model, to_file='model.png')"
   ]
  },
  {
   "cell_type": "markdown",
   "metadata": {},
   "source": [
    "<a name='3-2'></a>\n",
    "### 3.2 - Train and Evaluate the Model\n",
    "\n",
    "After creating the model, compiling it with your choice of optimizer and loss function, and doing a sanity check on its contents, you are now ready to build! \n",
    "\n",
    "Simply call `.fit()` to train. That's it! No need for mini-batching, saving, or complex backpropagation computations. That's all been done for you, as you're using a TensorFlow dataset with the batches specified already. You do have the option to specify epoch number or minibatch size if you like (for example, in the case of an un-batched dataset)."
   ]
  },
  {
   "cell_type": "code",
   "execution_count": 9,
   "metadata": {},
   "outputs": [
    {
     "name": "stdout",
     "output_type": "stream",
     "text": [
      "Epoch 1/10\n",
      "38/38 [==============================] - 4s 73ms/step - loss: 1.1568 - accuracy: 0.6833\n",
      "Epoch 2/10\n",
      "38/38 [==============================] - 3s 66ms/step - loss: 0.3777 - accuracy: 0.8550\n",
      "Epoch 3/10\n",
      "38/38 [==============================] - 3s 68ms/step - loss: 0.1861 - accuracy: 0.9217\n",
      "Epoch 4/10\n",
      "38/38 [==============================] - 2s 62ms/step - loss: 0.2228 - accuracy: 0.9100\n",
      "Epoch 5/10\n",
      "38/38 [==============================] - 2s 64ms/step - loss: 0.1051 - accuracy: 0.9650\n",
      "Epoch 6/10\n",
      "38/38 [==============================] - 3s 66ms/step - loss: 0.0839 - accuracy: 0.9650\n",
      "Epoch 7/10\n",
      "38/38 [==============================] - 2s 64ms/step - loss: 0.1148 - accuracy: 0.9617\n",
      "Epoch 8/10\n",
      "38/38 [==============================] - 2s 60ms/step - loss: 0.0978 - accuracy: 0.9650\n",
      "Epoch 9/10\n",
      "38/38 [==============================] - 3s 67ms/step - loss: 0.1388 - accuracy: 0.9467\n",
      "Epoch 10/10\n",
      "38/38 [==============================] - 3s 67ms/step - loss: 0.0929 - accuracy: 0.9633\n"
     ]
    },
    {
     "data": {
      "text/plain": [
       "<keras.callbacks.History at 0x2642c390e10>"
      ]
     },
     "execution_count": 9,
     "metadata": {},
     "output_type": "execute_result"
    }
   ],
   "source": [
    "happy_model.fit(X_train, Y_train, epochs=10, batch_size=16)"
   ]
  },
  {
   "cell_type": "markdown",
   "metadata": {},
   "source": [
    "After that completes, just use `.evaluate()` to evaluate against your test set. This function will print the value of the loss function and the performance metrics specified during the compilation of the model. In this case, the `binary_crossentropy` and the `accuracy` respectively."
   ]
  },
  {
   "cell_type": "code",
   "execution_count": 10,
   "metadata": {},
   "outputs": [
    {
     "name": "stdout",
     "output_type": "stream",
     "text": [
      "5/5 [==============================] - 1s 42ms/step - loss: 0.4863 - accuracy: 0.7600\n"
     ]
    },
    {
     "data": {
      "text/plain": [
       "[0.4863288402557373, 0.7599999904632568]"
      ]
     },
     "execution_count": 10,
     "metadata": {},
     "output_type": "execute_result"
    }
   ],
   "source": [
    "happy_model.evaluate(X_test, Y_test)"
   ]
  },
  {
   "cell_type": "markdown",
   "metadata": {},
   "source": [
    "Easy, right? But what if you need to build a model with shared layers, branches, or multiple inputs and outputs? This is where Sequential, with its beautifully simple yet limited functionality, won't be able to help you. \n",
    "\n",
    "Next up: Enter the Functional API, your slightly more complex, highly flexible friend.  "
   ]
  },
  {
   "cell_type": "markdown",
   "metadata": {},
   "source": [
    "<a name='4'></a>\n",
    "## 4 - The Functional API"
   ]
  },
  {
   "cell_type": "markdown",
   "metadata": {},
   "source": [
    "Welcome to the second half of the assignment, where you'll use Keras' flexible [Functional API](https://www.tensorflow.org/guide/keras/functional) to build a ConvNet that can differentiate between 6 sign language digits. \n",
    "\n",
    "The Functional API can handle models with non-linear topology, shared layers, as well as layers with multiple inputs or outputs. Imagine that, where the Sequential API requires the model to move in a linear fashion through its layers, the Functional API allows much more flexibility. Where Sequential is a straight line, a Functional model is a graph, where the nodes of the layers can connect in many more ways than one. \n",
    "\n",
    "In the visual example below, the one possible direction of the movement Sequential model is shown in contrast to a skip connection, which is just one of the many ways a Functional model can be constructed. A skip connection, as you might have guessed, skips some layer in the network and feeds the output to a later layer in the network. Don't worry, you'll be spending more time with skip connections very soon! "
   ]
  },
  {
   "cell_type": "markdown",
   "metadata": {},
   "source": [
    "<img src=\"images/seq_vs_func.png\" style=\"width:350px;height:200px;\">"
   ]
  },
  {
   "cell_type": "markdown",
   "metadata": {},
   "source": [
    "<a name='4-1'></a>\n",
    "### 4.1 - Load the SIGNS Dataset\n",
    "\n",
    "As a reminder, the SIGNS dataset is a collection of 6 signs representing numbers from 0 to 5."
   ]
  },
  {
   "cell_type": "code",
   "execution_count": 11,
   "metadata": {},
   "outputs": [],
   "source": [
    "# Loading the data (signs)\n",
    "X_train_orig, Y_train_orig, X_test_orig, Y_test_orig, classes = load_signs_dataset()"
   ]
  },
  {
   "cell_type": "markdown",
   "metadata": {},
   "source": [
    "<img src=\"images/SIGNS.png\" style=\"width:800px;height:300px;\">\n",
    "\n",
    "The next cell will show you an example of a labelled image in the dataset. Feel free to change the value of `index` below and re-run to see different examples. "
   ]
  },
  {
   "cell_type": "code",
   "execution_count": 12,
   "metadata": {},
   "outputs": [
    {
     "name": "stdout",
     "output_type": "stream",
     "text": [
      "y = 4\n"
     ]
    },
    {
     "data": {
      "image/png": "[encoded data removed]",
      "text/plain": [
       "<Figure size 432x288 with 1 Axes>"
      ]
     },
     "metadata": {
      "needs_background": "light"
     },
     "output_type": "display_data"
    }
   ],
   "source": [
    "# Example of an image from the dataset\n",
    "index = 9\n",
    "plt.imshow(X_train_orig[index])\n",
    "print (\"y = \" + str(np.squeeze(Y_train_orig[:, index])))"
   ]
  },
  {
   "cell_type": "markdown",
   "metadata": {},
   "source": [
    "<a name='4-2'></a>\n",
    "### 4.2 - Split the Data into Train/Test Sets\n",
    "\n",
    "In Course 2, you built a fully-connected network for this dataset. But since this is an image dataset, it is more natural to apply a ConvNet to it.\n",
    "\n",
    "To get started, let's examine the shapes of your data. "
   ]
  },
  {
   "cell_type": "code",
   "execution_count": 13,
   "metadata": {},
   "outputs": [
    {
     "name": "stdout",
     "output_type": "stream",
     "text": [
      "number of training examples = 1080\n",
      "number of test examples = 120\n",
      "X_train shape: (1080, 64, 64, 3)\n",
      "Y_train shape: (1080, 6)\n",
      "X_test shape: (120, 64, 64, 3)\n",
      "Y_test shape: (120, 6)\n"
     ]
    }
   ],
   "source": [
    "X_train = X_train_orig/255.\n",
    "X_test = X_test_orig/255.\n",
    "Y_train = convert_to_one_hot(Y_train_orig, 6).T\n",
    "Y_test = convert_to_one_hot(Y_test_orig, 6).T\n",
    "print (\"number of training examples = \" + str(X_train.shape[0]))\n",
    "print (\"number of test examples = \" + str(X_test.shape[0]))\n",
    "print (\"X_train shape: \" + str(X_train.shape))\n",
    "print (\"Y_train shape: \" + str(Y_train.shape))\n",
    "print (\"X_test shape: \" + str(X_test.shape))\n",
    "print (\"Y_test shape: \" + str(Y_test.shape))"
   ]
  },
  {
   "cell_type": "markdown",
   "metadata": {},
   "source": [
    "<a name='4-3'></a>\n",
    "### 4.3 - Forward Propagation\n",
    "\n",
    "In TensorFlow, there are built-in functions that implement the convolution steps for you. By now, you should be familiar with how TensorFlow builds computational graphs. In the [Functional API](https://www.tensorflow.org/guide/keras/functional), you create a graph of layers. This is what allows such great flexibility.\n",
    "\n",
    "However, the following model could also be defined using the Sequential API since the information flow is on a single line. But don't deviate. What we want you to learn is to use the functional API.\n",
    "\n",
    "Begin building your graph of layers by creating an input node that functions as a callable object:\n",
    "\n",
    "- **input_img = tf.keras.Input(shape=input_shape):** \n",
    "\n",
    "Then, create a new node in the graph of layers by calling a layer on the `input_img` object: \n",
    "\n",
    "- **tf.keras.layers.Conv2D(filters= ... , kernel_size= ... , padding='same')(input_img):** Read the full documentation on [Conv2D](https://www.tensorflow.org/api_docs/python/tf/keras/layers/Conv2D).\n",
    "\n",
    "- **tf.keras.layers.MaxPool2D(pool_size=(f, f), strides=(s, s), padding='same'):** `MaxPool2D()` downsamples your input using a window of size (f, f) and strides of size (s, s) to carry out max pooling over each window.  For max pooling, you usually operate on a single example at a time and a single channel at a time. Read the full documentation on [MaxPool2D](https://www.tensorflow.org/api_docs/python/tf/keras/layers/MaxPool2D).\n",
    "\n",
    "- **tf.keras.layers.ReLU():** computes the elementwise ReLU of Z (which can be any shape). You can read the full documentation on [ReLU](https://www.tensorflow.org/api_docs/python/tf/keras/layers/ReLU).\n",
    "\n",
    "- **tf.keras.layers.Flatten()**: given a tensor \"P\", this function takes each training (or test) example in the batch and flattens it into a 1D vector.  \n",
    "\n",
    "    * If a tensor P has the shape (batch_size,h,w,c), it returns a flattened tensor with shape (batch_size, k), where $k=h \\times w \\times c$.  \"k\" equals the product of all the dimension sizes other than the first dimension.\n",
    "    \n",
    "    * For example, given a tensor with dimensions [100, 2, 3, 4], it flattens the tensor to be of shape [100, 24], where 24 = 2 * 3 * 4.  You can read the full documentation on [Flatten](https://www.tensorflow.org/api_docs/python/tf/keras/layers/Flatten).\n",
    "\n",
    "- **tf.keras.layers.Dense(units= ... , activation='softmax')(F):** given the flattened input F, it returns the output computed using a fully connected layer. You can read the full documentation on [Dense](https://www.tensorflow.org/api_docs/python/tf/keras/layers/Dense).\n",
    "\n",
    "In the last function above (`tf.keras.layers.Dense()`), the fully connected layer automatically initializes weights in the graph and keeps on training them as you train the model. Hence, you did not need to initialize those weights when initializing the parameters.\n",
    "\n",
    "Lastly, before creating the model, you'll need to define the output using the last of the function's compositions (in this example, a Dense layer): \n",
    "\n",
    "- **outputs = tf.keras.layers.Dense(units=6, activation='softmax')(F)**\n",
    "\n",
    "\n",
    "#### Window, kernel, filter, pool\n",
    "\n",
    "The words \"kernel\" and \"filter\" are used to refer to the same thing. The word \"filter\" accounts for the amount of \"kernels\" that will be used in a single convolution layer. \"Pool\" is the name of the operation that takes the max or average value of the kernels. \n",
    "\n",
    "This is why the parameter `pool_size` refers to `kernel_size`, and you use `(f,f)` to refer to the filter size. \n",
    "\n",
    "Pool size and kernel size refer to the same thing in different objects - They refer to the shape of the window where the operation takes place. "
   ]
  },
  {
   "cell_type": "markdown",
   "metadata": {},
   "source": [
    "<a name='ex-2'></a>\n",
    "### Exercise 2 - convolutional_model\n",
    "\n",
    "Implement the `convolutional_model` function below to build the following model: `CONV2D -> RELU -> MAXPOOL -> CONV2D -> RELU -> MAXPOOL -> FLATTEN -> DENSE`. Use the functions above! \n",
    "\n",
    "Also, plug in the following parameters for all the steps:\n",
    "\n",
    " - [Conv2D](https://www.tensorflow.org/api_docs/python/tf/keras/layers/Conv2D): Use 8 4 by 4 filters, stride 1, padding is \"SAME\"\n",
    " - [ReLU](https://www.tensorflow.org/api_docs/python/tf/keras/layers/ReLU)\n",
    " - [MaxPool2D](https://www.tensorflow.org/api_docs/python/tf/keras/layers/MaxPool2D): Use an 8 by 8 filter size and an 8 by 8 stride, padding is \"SAME\"\n",
    " - **Conv2D**: Use 16 2 by 2 filters, stride 1, padding is \"SAME\"\n",
    " - **ReLU**\n",
    " - **MaxPool2D**: Use a 4 by 4 filter size and a 4 by 4 stride, padding is \"SAME\"\n",
    " - [Flatten](https://www.tensorflow.org/api_docs/python/tf/keras/layers/Flatten) the previous output.\n",
    " - Fully-connected ([Dense](https://www.tensorflow.org/api_docs/python/tf/keras/layers/Dense)) layer: Apply a fully connected layer with 6 neurons and a softmax activation. "
   ]
  },
  {
   "cell_type": "code",
   "execution_count": 14,
   "metadata": {
    "deletable": false,
    "nbgrader": {
     "cell_type": "code",
     "checksum": "f58643806aa8380c96225fc8b4c5e7aa",
     "grade": false,
     "grade_id": "cell-dac51744a9e03f51",
     "locked": false,
     "schema_version": 3,
     "solution": true,
     "task": false
    }
   },
   "outputs": [],
   "source": [
    "# GRADED FUNCTION: convolutional_model\n",
    "\n",
    "def convolutional_model(input_shape):\n",
    "    \"\"\"\n",
    "    Implements the forward propagation for the model:\n",
    "    CONV2D -> RELU -> MAXPOOL -> CONV2D -> RELU -> MAXPOOL -> FLATTEN -> DENSE\n",
    "    \n",
    "    Note that for simplicity and grading purposes, you'll hard-code some values\n",
    "    such as the stride and kernel (filter) sizes. \n",
    "    Normally, functions should take these values as function parameters.\n",
    "    \n",
    "    Arguments:\n",
    "    input_img -- input dataset, of shape (input_shape)\n",
    "\n",
    "    Returns:\n",
    "    model -- TF Keras model (object containing the information for the entire training process) \n",
    "    \"\"\"\n",
    "\n",
    "    input_img = tf.keras.Input(shape=input_shape)\n",
    "    ## CONV2D: 8 filters 4x4, stride of 1, padding 'SAME'\n",
    "    # Z1 = None\n",
    "    ## RELU\n",
    "    # A1 = None\n",
    "    ## MAXPOOL: window 8x8, stride 8, padding 'SAME'\n",
    "    # P1 = None\n",
    "    ## CONV2D: 16 filters 2x2, stride 1, padding 'SAME'\n",
    "    # Z2 = None\n",
    "    ## RELU\n",
    "    # A2 = None\n",
    "    ## MAXPOOL: window 4x4, stride 4, padding 'SAME'\n",
    "    # P2 = None\n",
    "    ## FLATTEN\n",
    "    # F = None\n",
    "    ## Dense layer\n",
    "    ## 6 neurons in output layer. Hint: one of the arguments should be \"activation='softmax'\" \n",
    "    # outputs = None\n",
    "    # YOUR CODE STARTS HERE\n",
    "    Z1 = tfl.Conv2D(8, 4, activation='linear', padding=\"same\", strides=1)(input_img)\n",
    "    A1 = tfl.ReLU()(Z1)\n",
    "    P1 = tfl.MaxPool2D(pool_size=(8, 8), strides=(8, 8), padding='same')(A1)\n",
    "    Z2 = tfl.Conv2D(16, 2, activation='linear', padding=\"same\", strides=1)(P1)\n",
    "    A2 = tfl.ReLU()(Z2)\n",
    "    P2 = tfl.MaxPool2D(pool_size=(4, 4), strides=(4, 4), padding='same')(A2)\n",
    "    F = tfl.Flatten()(P2)\n",
    "    outputs = tfl.Dense(6, activation='softmax')(F)\n",
    "    \n",
    "    # YOUR CODE ENDS HERE\n",
    "    model = tf.keras.Model(inputs=input_img, outputs=outputs)\n",
    "    return model"
   ]
  },
  {
   "cell_type": "code",
   "execution_count": 15,
   "metadata": {
    "deletable": false,
    "editable": false,
    "nbgrader": {
     "cell_type": "code",
     "checksum": "483d626949930a0b0ef20997e7c6ba72",
     "grade": true,
     "grade_id": "cell-45d22e92042174c9",
     "locked": true,
     "points": 10,
     "schema_version": 3,
     "solution": false,
     "task": false
    }
   },
   "outputs": [
    {
     "name": "stdout",
     "output_type": "stream",
     "text": [
      "Model: \"model\"\n",
      "_________________________________________________________________\n",
      " Layer (type)                Output Shape              Param #   \n",
      "=================================================================\n",
      " input_1 (InputLayer)        [(None, 64, 64, 3)]       0         \n",
      "                                                                 \n",
      " conv2d_1 (Conv2D)           (None, 64, 64, 8)         392       \n",
      "                                                                 \n",
      " re_lu_1 (ReLU)              (None, 64, 64, 8)         0         \n",
      "                                                                 \n",
      " max_pooling2d_1 (MaxPooling  (None, 8, 8, 8)          0         \n",
      " 2D)                                                             \n",
      "                                                                 \n",
      " conv2d_2 (Conv2D)           (None, 8, 8, 16)          528       \n",
      "                                                                 \n",
      " re_lu_2 (ReLU)              (None, 8, 8, 16)          0         \n",
      "                                                                 \n",
      " max_pooling2d_2 (MaxPooling  (None, 2, 2, 16)         0         \n",
      " 2D)                                                             \n",
      "                                                                 \n",
      " flatten_1 (Flatten)         (None, 64)                0         \n",
      "                                                                 \n",
      " dense_1 (Dense)             (None, 6)                 390       \n",
      "                                                                 \n",
      "=================================================================\n",
      "Total params: 1,310\n",
      "Trainable params: 1,310\n",
      "Non-trainable params: 0\n",
      "_________________________________________________________________\n",
      "\u001b[32mAll tests passed!\u001b[0m\n"
     ]
    }
   ],
   "source": [
    "conv_model = convolutional_model((64, 64, 3))\n",
    "conv_model.compile(optimizer='adam',\n",
    "                  loss='categorical_crossentropy',\n",
    "                  metrics=['accuracy'])\n",
    "conv_model.summary()\n",
    "    \n",
    "output = [['InputLayer', [(None, 64, 64, 3)], 0],\n",
    "        ['Conv2D', (None, 64, 64, 8), 392, 'same', 'linear', 'GlorotUniform'],\n",
    "        ['ReLU', (None, 64, 64, 8), 0],\n",
    "        ['MaxPooling2D', (None, 8, 8, 8), 0, (8, 8), (8, 8), 'same'],\n",
    "        ['Conv2D', (None, 8, 8, 16), 528, 'same', 'linear', 'GlorotUniform'],\n",
    "        ['ReLU', (None, 8, 8, 16), 0],\n",
    "        ['MaxPooling2D', (None, 2, 2, 16), 0, (4, 4), (4, 4), 'same'],\n",
    "        ['Flatten', (None, 64), 0],\n",
    "        ['Dense', (None, 6), 390, 'softmax']]\n",
    "    \n",
    "comparator(summary(conv_model), output)"
   ]
  },
  {
   "cell_type": "markdown",
   "metadata": {},
   "source": [
    "Both the Sequential and Functional APIs return a TF Keras model object. The only difference is how inputs are handled inside the object model! "
   ]
  },
  {
   "cell_type": "code",
   "execution_count": 17,
   "metadata": {},
   "outputs": [
    {
     "data": {
      "image/png": "[encoded data removed]",
      "text/plain": [
       "<IPython.core.display.Image object>"
      ]
     },
     "execution_count": 17,
     "metadata": {},
     "output_type": "execute_result"
    }
   ],
   "source": [
    "plot_model(conv_model, to_file='convmodel.png')"
   ]
  },
  {
   "cell_type": "markdown",
   "metadata": {},
   "source": [
    "<a name='4-4'></a>\n",
    "### 4.4 - Train the Model"
   ]
  },
  {
   "cell_type": "code",
   "execution_count": 18,
   "metadata": {},
   "outputs": [
    {
     "name": "stdout",
     "output_type": "stream",
     "text": [
      "Epoch 1/100\n",
      "17/17 [==============================] - 2s 84ms/step - loss: 1.9082 - accuracy: 0.1620 - val_loss: 1.7991 - val_accuracy: 0.1667\n",
      "Epoch 2/100\n",
      "17/17 [==============================] - 1s 61ms/step - loss: 1.7897 - accuracy: 0.2028 - val_loss: 1.7872 - val_accuracy: 0.1917\n",
      "Epoch 3/100\n",
      "17/17 [==============================] - 1s 64ms/step - loss: 1.7839 - accuracy: 0.2046 - val_loss: 1.7817 - val_accuracy: 0.3333\n",
      "Epoch 4/100\n",
      "17/17 [==============================] - 1s 66ms/step - loss: 1.7781 - accuracy: 0.2500 - val_loss: 1.7779 - val_accuracy: 0.2333\n",
      "Epoch 5/100\n",
      "17/17 [==============================] - 1s 53ms/step - loss: 1.7734 - accuracy: 0.2546 - val_loss: 1.7739 - val_accuracy: 0.2750\n",
      "Epoch 6/100\n",
      "17/17 [==============================] - 1s 56ms/step - loss: 1.7679 - accuracy: 0.3093 - val_loss: 1.7685 - val_accuracy: 0.3750\n",
      "Epoch 7/100\n",
      "17/17 [==============================] - 1s 59ms/step - loss: 1.7614 - accuracy: 0.3204 - val_loss: 1.7632 - val_accuracy: 0.3500\n",
      "Epoch 8/100\n",
      "17/17 [==============================] - 1s 67ms/step - loss: 1.7528 - accuracy: 0.3528 - val_loss: 1.7551 - val_accuracy: 0.4083\n",
      "Epoch 9/100\n",
      "17/17 [==============================] - 1s 64ms/step - loss: 1.7414 - accuracy: 0.3833 - val_loss: 1.7456 - val_accuracy: 0.4417\n",
      "Epoch 10/100\n",
      "17/17 [==============================] - 1s 61ms/step - loss: 1.7260 - accuracy: 0.3833 - val_loss: 1.7318 - val_accuracy: 0.4083\n",
      "Epoch 11/100\n",
      "17/17 [==============================] - 1s 71ms/step - loss: 1.7061 - accuracy: 0.3815 - val_loss: 1.7147 - val_accuracy: 0.4000\n",
      "Epoch 12/100\n",
      "17/17 [==============================] - 1s 68ms/step - loss: 1.6807 - accuracy: 0.4287 - val_loss: 1.6937 - val_accuracy: 0.4083\n",
      "Epoch 13/100\n",
      "17/17 [==============================] - 1s 58ms/step - loss: 1.6491 - accuracy: 0.4343 - val_loss: 1.6669 - val_accuracy: 0.4500\n",
      "Epoch 14/100\n",
      "17/17 [==============================] - 1s 58ms/step - loss: 1.6122 - accuracy: 0.4491 - val_loss: 1.6356 - val_accuracy: 0.4333\n",
      "Epoch 15/100\n",
      "17/17 [==============================] - 1s 63ms/step - loss: 1.5718 - accuracy: 0.4630 - val_loss: 1.5993 - val_accuracy: 0.4833\n",
      "Epoch 16/100\n",
      "17/17 [==============================] - 1s 66ms/step - loss: 1.5273 - accuracy: 0.4759 - val_loss: 1.5615 - val_accuracy: 0.4500\n",
      "Epoch 17/100\n",
      "17/17 [==============================] - 1s 58ms/step - loss: 1.4827 - accuracy: 0.4787 - val_loss: 1.5237 - val_accuracy: 0.4250\n",
      "Epoch 18/100\n",
      "17/17 [==============================] - 1s 63ms/step - loss: 1.4376 - accuracy: 0.4944 - val_loss: 1.4830 - val_accuracy: 0.4417\n",
      "Epoch 19/100\n",
      "17/17 [==============================] - 1s 58ms/step - loss: 1.3880 - accuracy: 0.5111 - val_loss: 1.4548 - val_accuracy: 0.4417\n",
      "Epoch 20/100\n",
      "17/17 [==============================] - 1s 60ms/step - loss: 1.3452 - accuracy: 0.5194 - val_loss: 1.4177 - val_accuracy: 0.4500\n",
      "Epoch 21/100\n",
      "17/17 [==============================] - 1s 62ms/step - loss: 1.3043 - accuracy: 0.5380 - val_loss: 1.3912 - val_accuracy: 0.4500\n",
      "Epoch 22/100\n",
      "17/17 [==============================] - 1s 59ms/step - loss: 1.2669 - accuracy: 0.5463 - val_loss: 1.3627 - val_accuracy: 0.4917\n",
      "Epoch 23/100\n",
      "17/17 [==============================] - 1s 59ms/step - loss: 1.2342 - accuracy: 0.5546 - val_loss: 1.3328 - val_accuracy: 0.4833\n",
      "Epoch 24/100\n",
      "17/17 [==============================] - 1s 65ms/step - loss: 1.2031 - accuracy: 0.5704 - val_loss: 1.3048 - val_accuracy: 0.5083\n",
      "Epoch 25/100\n",
      "17/17 [==============================] - 1s 62ms/step - loss: 1.1728 - accuracy: 0.5833 - val_loss: 1.2767 - val_accuracy: 0.5167\n",
      "Epoch 26/100\n",
      "17/17 [==============================] - 1s 66ms/step - loss: 1.1448 - accuracy: 0.5963 - val_loss: 1.2470 - val_accuracy: 0.5417\n",
      "Epoch 27/100\n",
      "17/17 [==============================] - 1s 57ms/step - loss: 1.1172 - accuracy: 0.6093 - val_loss: 1.2231 - val_accuracy: 0.5250\n",
      "Epoch 28/100\n",
      "17/17 [==============================] - 1s 62ms/step - loss: 1.0910 - accuracy: 0.6148 - val_loss: 1.2028 - val_accuracy: 0.5417\n",
      "Epoch 29/100\n",
      "17/17 [==============================] - 1s 58ms/step - loss: 1.0666 - accuracy: 0.6296 - val_loss: 1.1785 - val_accuracy: 0.5500\n",
      "Epoch 30/100\n",
      "17/17 [==============================] - 1s 62ms/step - loss: 1.0440 - accuracy: 0.6296 - val_loss: 1.1604 - val_accuracy: 0.5333\n",
      "Epoch 31/100\n",
      "17/17 [==============================] - 1s 62ms/step - loss: 1.0237 - accuracy: 0.6389 - val_loss: 1.1417 - val_accuracy: 0.5250\n",
      "Epoch 32/100\n",
      "17/17 [==============================] - 1s 57ms/step - loss: 1.0031 - accuracy: 0.6491 - val_loss: 1.1262 - val_accuracy: 0.5500\n",
      "Epoch 33/100\n",
      "17/17 [==============================] - 1s 66ms/step - loss: 0.9846 - accuracy: 0.6602 - val_loss: 1.1091 - val_accuracy: 0.5583\n",
      "Epoch 34/100\n",
      "17/17 [==============================] - 1s 62ms/step - loss: 0.9656 - accuracy: 0.6731 - val_loss: 1.0955 - val_accuracy: 0.5583\n",
      "Epoch 35/100\n",
      "17/17 [==============================] - 1s 59ms/step - loss: 0.9493 - accuracy: 0.6815 - val_loss: 1.0785 - val_accuracy: 0.5667\n",
      "Epoch 36/100\n",
      "17/17 [==============================] - 1s 60ms/step - loss: 0.9308 - accuracy: 0.6852 - val_loss: 1.0655 - val_accuracy: 0.5667\n",
      "Epoch 37/100\n",
      "17/17 [==============================] - 1s 62ms/step - loss: 0.9151 - accuracy: 0.6907 - val_loss: 1.0520 - val_accuracy: 0.5833\n",
      "Epoch 38/100\n",
      "17/17 [==============================] - 1s 64ms/step - loss: 0.8980 - accuracy: 0.6991 - val_loss: 1.0399 - val_accuracy: 0.5667\n",
      "Epoch 39/100\n",
      "17/17 [==============================] - 1s 62ms/step - loss: 0.8859 - accuracy: 0.7019 - val_loss: 1.0320 - val_accuracy: 0.5667\n",
      "Epoch 40/100\n",
      "17/17 [==============================] - 1s 58ms/step - loss: 0.8717 - accuracy: 0.7019 - val_loss: 1.0172 - val_accuracy: 0.6000\n",
      "Epoch 41/100\n",
      "17/17 [==============================] - 1s 64ms/step - loss: 0.8572 - accuracy: 0.7093 - val_loss: 1.0052 - val_accuracy: 0.5833\n",
      "Epoch 42/100\n",
      "17/17 [==============================] - 1s 84ms/step - loss: 0.8430 - accuracy: 0.7148 - val_loss: 0.9932 - val_accuracy: 0.5917\n",
      "Epoch 43/100\n",
      "17/17 [==============================] - 1s 67ms/step - loss: 0.8306 - accuracy: 0.7139 - val_loss: 0.9831 - val_accuracy: 0.5917\n",
      "Epoch 44/100\n",
      "17/17 [==============================] - 1s 71ms/step - loss: 0.8178 - accuracy: 0.7176 - val_loss: 0.9718 - val_accuracy: 0.6000\n",
      "Epoch 45/100\n",
      "17/17 [==============================] - 1s 74ms/step - loss: 0.8055 - accuracy: 0.7213 - val_loss: 0.9612 - val_accuracy: 0.6167\n",
      "Epoch 46/100\n",
      "17/17 [==============================] - 1s 63ms/step - loss: 0.7935 - accuracy: 0.7231 - val_loss: 0.9513 - val_accuracy: 0.6167\n",
      "Epoch 47/100\n",
      "17/17 [==============================] - 1s 75ms/step - loss: 0.7824 - accuracy: 0.7296 - val_loss: 0.9414 - val_accuracy: 0.6083\n",
      "Epoch 48/100\n",
      "17/17 [==============================] - 1s 67ms/step - loss: 0.7715 - accuracy: 0.7306 - val_loss: 0.9310 - val_accuracy: 0.6333\n",
      "Epoch 49/100\n",
      "17/17 [==============================] - 1s 61ms/step - loss: 0.7617 - accuracy: 0.7333 - val_loss: 0.9229 - val_accuracy: 0.6583\n",
      "Epoch 50/100\n",
      "17/17 [==============================] - 1s 65ms/step - loss: 0.7511 - accuracy: 0.7370 - val_loss: 0.9142 - val_accuracy: 0.6500\n",
      "Epoch 51/100\n",
      "17/17 [==============================] - 1s 65ms/step - loss: 0.7416 - accuracy: 0.7417 - val_loss: 0.9046 - val_accuracy: 0.6417\n",
      "Epoch 52/100\n",
      "17/17 [==============================] - 1s 62ms/step - loss: 0.7326 - accuracy: 0.7417 - val_loss: 0.8983 - val_accuracy: 0.6417\n",
      "Epoch 53/100\n",
      "17/17 [==============================] - 1s 61ms/step - loss: 0.7230 - accuracy: 0.7519 - val_loss: 0.8881 - val_accuracy: 0.6500\n",
      "Epoch 54/100\n",
      "17/17 [==============================] - 1s 63ms/step - loss: 0.7152 - accuracy: 0.7500 - val_loss: 0.8835 - val_accuracy: 0.6500\n",
      "Epoch 55/100\n",
      "17/17 [==============================] - 1s 62ms/step - loss: 0.7049 - accuracy: 0.7519 - val_loss: 0.8745 - val_accuracy: 0.6417\n",
      "Epoch 56/100\n",
      "17/17 [==============================] - 1s 67ms/step - loss: 0.6966 - accuracy: 0.7611 - val_loss: 0.8689 - val_accuracy: 0.6500\n",
      "Epoch 57/100\n",
      "17/17 [==============================] - 1s 58ms/step - loss: 0.6882 - accuracy: 0.7648 - val_loss: 0.8609 - val_accuracy: 0.6583\n",
      "Epoch 58/100\n"
     ]
    },
    {
     "name": "stdout",
     "output_type": "stream",
     "text": [
      "17/17 [==============================] - 1s 57ms/step - loss: 0.6802 - accuracy: 0.7667 - val_loss: 0.8556 - val_accuracy: 0.6750\n",
      "Epoch 59/100\n",
      "17/17 [==============================] - 1s 63ms/step - loss: 0.6726 - accuracy: 0.7704 - val_loss: 0.8477 - val_accuracy: 0.6833\n",
      "Epoch 60/100\n",
      "17/17 [==============================] - 1s 58ms/step - loss: 0.6658 - accuracy: 0.7694 - val_loss: 0.8423 - val_accuracy: 0.7000\n",
      "Epoch 61/100\n",
      "17/17 [==============================] - 1s 63ms/step - loss: 0.6582 - accuracy: 0.7694 - val_loss: 0.8360 - val_accuracy: 0.7083\n",
      "Epoch 62/100\n",
      "17/17 [==============================] - 1s 61ms/step - loss: 0.6508 - accuracy: 0.7731 - val_loss: 0.8296 - val_accuracy: 0.6917\n",
      "Epoch 63/100\n",
      "17/17 [==============================] - 1s 59ms/step - loss: 0.6433 - accuracy: 0.7769 - val_loss: 0.8249 - val_accuracy: 0.7000\n",
      "Epoch 64/100\n",
      "17/17 [==============================] - 1s 62ms/step - loss: 0.6357 - accuracy: 0.7815 - val_loss: 0.8193 - val_accuracy: 0.7000\n",
      "Epoch 65/100\n",
      "17/17 [==============================] - 1s 66ms/step - loss: 0.6288 - accuracy: 0.7824 - val_loss: 0.8135 - val_accuracy: 0.7000\n",
      "Epoch 66/100\n",
      "17/17 [==============================] - 1s 62ms/step - loss: 0.6219 - accuracy: 0.7824 - val_loss: 0.8083 - val_accuracy: 0.7000\n",
      "Epoch 67/100\n",
      "17/17 [==============================] - 1s 60ms/step - loss: 0.6154 - accuracy: 0.7861 - val_loss: 0.8026 - val_accuracy: 0.7167\n",
      "Epoch 68/100\n",
      "17/17 [==============================] - 1s 58ms/step - loss: 0.6092 - accuracy: 0.7907 - val_loss: 0.7981 - val_accuracy: 0.7167\n",
      "Epoch 69/100\n",
      "17/17 [==============================] - 1s 78ms/step - loss: 0.6029 - accuracy: 0.7963 - val_loss: 0.7942 - val_accuracy: 0.7167\n",
      "Epoch 70/100\n",
      "17/17 [==============================] - 1s 69ms/step - loss: 0.5965 - accuracy: 0.7954 - val_loss: 0.7883 - val_accuracy: 0.7250\n",
      "Epoch 71/100\n",
      "17/17 [==============================] - 1s 68ms/step - loss: 0.5908 - accuracy: 0.7991 - val_loss: 0.7817 - val_accuracy: 0.7333\n",
      "Epoch 72/100\n",
      "17/17 [==============================] - 1s 62ms/step - loss: 0.5844 - accuracy: 0.8046 - val_loss: 0.7716 - val_accuracy: 0.7417\n",
      "Epoch 73/100\n",
      "17/17 [==============================] - 1s 71ms/step - loss: 0.5787 - accuracy: 0.8028 - val_loss: 0.7676 - val_accuracy: 0.7417\n",
      "Epoch 74/100\n",
      "17/17 [==============================] - 1s 66ms/step - loss: 0.5731 - accuracy: 0.8083 - val_loss: 0.7633 - val_accuracy: 0.7417\n",
      "Epoch 75/100\n",
      "17/17 [==============================] - 1s 65ms/step - loss: 0.5676 - accuracy: 0.8102 - val_loss: 0.7585 - val_accuracy: 0.7500\n",
      "Epoch 76/100\n",
      "17/17 [==============================] - 1s 66ms/step - loss: 0.5626 - accuracy: 0.8120 - val_loss: 0.7551 - val_accuracy: 0.7500\n",
      "Epoch 77/100\n",
      "17/17 [==============================] - 1s 60ms/step - loss: 0.5563 - accuracy: 0.8167 - val_loss: 0.7494 - val_accuracy: 0.7500\n",
      "Epoch 78/100\n",
      "17/17 [==============================] - 1s 60ms/step - loss: 0.5511 - accuracy: 0.8176 - val_loss: 0.7439 - val_accuracy: 0.7500\n",
      "Epoch 79/100\n",
      "17/17 [==============================] - 1s 61ms/step - loss: 0.5456 - accuracy: 0.8185 - val_loss: 0.7389 - val_accuracy: 0.7500\n",
      "Epoch 80/100\n",
      "17/17 [==============================] - 1s 84ms/step - loss: 0.5405 - accuracy: 0.8204 - val_loss: 0.7339 - val_accuracy: 0.7500\n",
      "Epoch 81/100\n",
      "17/17 [==============================] - 1s 66ms/step - loss: 0.5346 - accuracy: 0.8204 - val_loss: 0.7290 - val_accuracy: 0.7500\n",
      "Epoch 82/100\n",
      "17/17 [==============================] - 1s 76ms/step - loss: 0.5299 - accuracy: 0.8241 - val_loss: 0.7258 - val_accuracy: 0.7500\n",
      "Epoch 83/100\n",
      "17/17 [==============================] - 1s 61ms/step - loss: 0.5243 - accuracy: 0.8250 - val_loss: 0.7229 - val_accuracy: 0.7583\n",
      "Epoch 84/100\n",
      "17/17 [==============================] - 1s 60ms/step - loss: 0.5190 - accuracy: 0.8259 - val_loss: 0.7177 - val_accuracy: 0.7583\n",
      "Epoch 85/100\n",
      "17/17 [==============================] - 1s 63ms/step - loss: 0.5143 - accuracy: 0.8315 - val_loss: 0.7151 - val_accuracy: 0.7417\n",
      "Epoch 86/100\n",
      "17/17 [==============================] - 1s 56ms/step - loss: 0.5093 - accuracy: 0.8333 - val_loss: 0.7113 - val_accuracy: 0.7417\n",
      "Epoch 87/100\n",
      "17/17 [==============================] - 1s 61ms/step - loss: 0.5042 - accuracy: 0.8361 - val_loss: 0.7088 - val_accuracy: 0.7500\n",
      "Epoch 88/100\n",
      "17/17 [==============================] - 1s 61ms/step - loss: 0.4994 - accuracy: 0.8389 - val_loss: 0.7052 - val_accuracy: 0.7500\n",
      "Epoch 89/100\n",
      "17/17 [==============================] - 1s 73ms/step - loss: 0.4945 - accuracy: 0.8389 - val_loss: 0.7025 - val_accuracy: 0.7500\n",
      "Epoch 90/100\n",
      "17/17 [==============================] - 1s 61ms/step - loss: 0.4897 - accuracy: 0.8389 - val_loss: 0.6984 - val_accuracy: 0.7500\n",
      "Epoch 91/100\n",
      "17/17 [==============================] - 1s 58ms/step - loss: 0.4854 - accuracy: 0.8417 - val_loss: 0.6966 - val_accuracy: 0.7500\n",
      "Epoch 92/100\n",
      "17/17 [==============================] - 1s 57ms/step - loss: 0.4810 - accuracy: 0.8435 - val_loss: 0.6925 - val_accuracy: 0.7500\n",
      "Epoch 93/100\n",
      "17/17 [==============================] - 1s 64ms/step - loss: 0.4770 - accuracy: 0.8444 - val_loss: 0.6902 - val_accuracy: 0.7500\n",
      "Epoch 94/100\n",
      "17/17 [==============================] - 1s 65ms/step - loss: 0.4724 - accuracy: 0.8472 - val_loss: 0.6875 - val_accuracy: 0.7500\n",
      "Epoch 95/100\n",
      "17/17 [==============================] - 1s 63ms/step - loss: 0.4686 - accuracy: 0.8491 - val_loss: 0.6850 - val_accuracy: 0.7500\n",
      "Epoch 96/100\n",
      "17/17 [==============================] - 1s 66ms/step - loss: 0.4639 - accuracy: 0.8509 - val_loss: 0.6821 - val_accuracy: 0.7500\n",
      "Epoch 97/100\n",
      "17/17 [==============================] - 1s 61ms/step - loss: 0.4604 - accuracy: 0.8537 - val_loss: 0.6799 - val_accuracy: 0.7583\n",
      "Epoch 98/100\n",
      "17/17 [==============================] - 1s 65ms/step - loss: 0.4563 - accuracy: 0.8556 - val_loss: 0.6771 - val_accuracy: 0.7583\n",
      "Epoch 99/100\n",
      "17/17 [==============================] - 1s 64ms/step - loss: 0.4523 - accuracy: 0.8602 - val_loss: 0.6751 - val_accuracy: 0.7583\n",
      "Epoch 100/100\n",
      "17/17 [==============================] - 1s 58ms/step - loss: 0.4480 - accuracy: 0.8611 - val_loss: 0.6719 - val_accuracy: 0.7583\n"
     ]
    }
   ],
   "source": [
    "train_dataset = tf.data.Dataset.from_tensor_slices((X_train, Y_train)).batch(64)\n",
    "test_dataset = tf.data.Dataset.from_tensor_slices((X_test, Y_test)).batch(64)\n",
    "history = conv_model.fit(train_dataset, epochs=100, validation_data=test_dataset)"
   ]
  },
  {
   "cell_type": "markdown",
   "metadata": {},
   "source": [
    "<a name='5'></a>\n",
    "## 5 - History Object \n",
    "\n",
    "The history object is an output of the `.fit()` operation, and provides a record of all the loss and metric values in memory. It's stored as a dictionary that you can retrieve at `history.history`: "
   ]
  },
  {
   "cell_type": "code",
   "execution_count": 32,
   "metadata": {},
   "outputs": [
    {
     "data": {
      "text/plain": [
       "{'loss': [1.8271772861480713,\n",
       "  1.7877792119979858,\n",
       "  1.782025933265686,\n",
       "  1.7780547142028809,\n",
       "  1.7738573551177979,\n",
       "  1.7691413164138794,\n",
       "  1.7645009756088257,\n",
       "  1.7593340873718262,\n",
       "  1.7525750398635864,\n",
       "  1.7438642978668213,\n",
       "  1.7339540719985962,\n",
       "  1.7225359678268433,\n",
       "  1.7096872329711914,\n",
       "  1.6950016021728516,\n",
       "  1.6773827075958252,\n",
       "  1.65607488155365,\n",
       "  1.633201241493225,\n",
       "  1.6071374416351318,\n",
       "  1.5792888402938843,\n",
       "  1.550311803817749,\n",
       "  1.5190317630767822,\n",
       "  1.4869228601455688,\n",
       "  1.4536999464035034,\n",
       "  1.4197652339935303,\n",
       "  1.3856414556503296,\n",
       "  1.3515440225601196,\n",
       "  1.317262887954712,\n",
       "  1.2840723991394043,\n",
       "  1.2518911361694336,\n",
       "  1.2208303213119507,\n",
       "  1.1906304359436035,\n",
       "  1.15948486328125,\n",
       "  1.1309648752212524,\n",
       "  1.1065553426742554,\n",
       "  1.0813369750976562,\n",
       "  1.0566307306289673,\n",
       "  1.034066081047058,\n",
       "  1.0127660036087036,\n",
       "  0.9909776449203491,\n",
       "  0.9714027643203735,\n",
       "  0.9517911672592163,\n",
       "  0.9342874884605408,\n",
       "  0.9176334738731384,\n",
       "  0.9009063243865967,\n",
       "  0.8850575089454651,\n",
       "  0.8689831495285034,\n",
       "  0.8554551005363464,\n",
       "  0.8418741822242737,\n",
       "  0.8285509943962097,\n",
       "  0.8149930834770203,\n",
       "  0.803537905216217,\n",
       "  0.7910248637199402,\n",
       "  0.7796175479888916,\n",
       "  0.7680180668830872,\n",
       "  0.7571222186088562,\n",
       "  0.7472599744796753,\n",
       "  0.7366976141929626,\n",
       "  0.7270744442939758,\n",
       "  0.718232274055481,\n",
       "  0.7084500193595886,\n",
       "  0.7001795172691345,\n",
       "  0.6906260251998901,\n",
       "  0.6830296516418457,\n",
       "  0.6741424202919006,\n",
       "  0.666857898235321,\n",
       "  0.6583619713783264,\n",
       "  0.6516669392585754,\n",
       "  0.644201934337616,\n",
       "  0.6365376114845276,\n",
       "  0.6307464838027954,\n",
       "  0.6232157349586487,\n",
       "  0.6158702969551086,\n",
       "  0.6108132600784302,\n",
       "  0.6032133102416992,\n",
       "  0.5965409278869629,\n",
       "  0.5915576219558716,\n",
       "  0.5843436121940613,\n",
       "  0.5786172747612,\n",
       "  0.5738188028335571,\n",
       "  0.5670433640480042,\n",
       "  0.5623001456260681,\n",
       "  0.5565990209579468,\n",
       "  0.5513836741447449,\n",
       "  0.5463773012161255,\n",
       "  0.5410481691360474,\n",
       "  0.5369852781295776,\n",
       "  0.5316852331161499,\n",
       "  0.5261991620063782,\n",
       "  0.5217530131340027,\n",
       "  0.5172023773193359,\n",
       "  0.5119708776473999,\n",
       "  0.5080111026763916,\n",
       "  0.5037106275558472,\n",
       "  0.49903789162635803,\n",
       "  0.4957992434501648,\n",
       "  0.4913818836212158,\n",
       "  0.4880237579345703,\n",
       "  0.48362651467323303,\n",
       "  0.4797862768173218,\n",
       "  0.476804256439209],\n",
       " 'accuracy': [0.16851851344108582,\n",
       "  0.18611110746860504,\n",
       "  0.21388888359069824,\n",
       "  0.2361111044883728,\n",
       "  0.26759257912635803,\n",
       "  0.29722222685813904,\n",
       "  0.3027777671813965,\n",
       "  0.31111112236976624,\n",
       "  0.35370370745658875,\n",
       "  0.3787037134170532,\n",
       "  0.3916666805744171,\n",
       "  0.41018518805503845,\n",
       "  0.4157407283782959,\n",
       "  0.4203703701496124,\n",
       "  0.43703705072402954,\n",
       "  0.44999998807907104,\n",
       "  0.4462963044643402,\n",
       "  0.46481481194496155,\n",
       "  0.4703703820705414,\n",
       "  0.4722222089767456,\n",
       "  0.4870370328426361,\n",
       "  0.4962962865829468,\n",
       "  0.4972222149372101,\n",
       "  0.5046296119689941,\n",
       "  0.5129629373550415,\n",
       "  0.5259259343147278,\n",
       "  0.5305555462837219,\n",
       "  0.5407407283782959,\n",
       "  0.5555555820465088,\n",
       "  0.5629629492759705,\n",
       "  0.5675926208496094,\n",
       "  0.5833333134651184,\n",
       "  0.6064814925193787,\n",
       "  0.6111111044883728,\n",
       "  0.6203703880310059,\n",
       "  0.6287037134170532,\n",
       "  0.635185182094574,\n",
       "  0.6342592835426331,\n",
       "  0.6416666507720947,\n",
       "  0.6462963223457336,\n",
       "  0.6499999761581421,\n",
       "  0.6583333611488342,\n",
       "  0.664814829826355,\n",
       "  0.6722221970558167,\n",
       "  0.6796296238899231,\n",
       "  0.6916666626930237,\n",
       "  0.6898148059844971,\n",
       "  0.7027778029441833,\n",
       "  0.7018518447875977,\n",
       "  0.7074074149131775,\n",
       "  0.7157407402992249,\n",
       "  0.7166666388511658,\n",
       "  0.7259259223937988,\n",
       "  0.729629635810852,\n",
       "  0.7314814925193787,\n",
       "  0.739814817905426,\n",
       "  0.7462962865829468,\n",
       "  0.7481481432914734,\n",
       "  0.7490741014480591,\n",
       "  0.7564814686775208,\n",
       "  0.7583333253860474,\n",
       "  0.7657407522201538,\n",
       "  0.770370364189148,\n",
       "  0.7749999761581421,\n",
       "  0.7824074029922485,\n",
       "  0.7870370149612427,\n",
       "  0.7907407283782959,\n",
       "  0.789814829826355,\n",
       "  0.7972221970558167,\n",
       "  0.7990740537643433,\n",
       "  0.8037037253379822,\n",
       "  0.8064814805984497,\n",
       "  0.8092592358589172,\n",
       "  0.8138889074325562,\n",
       "  0.8120370507240295,\n",
       "  0.8166666626930237,\n",
       "  0.8185185194015503,\n",
       "  0.8175926208496094,\n",
       "  0.8203703761100769,\n",
       "  0.8185185194015503,\n",
       "  0.8203703761100769,\n",
       "  0.8222222328186035,\n",
       "  0.8222222328186035,\n",
       "  0.8231481313705444,\n",
       "  0.8277778029441833,\n",
       "  0.8277778029441833,\n",
       "  0.8259259462356567,\n",
       "  0.8324074149131775,\n",
       "  0.8314814567565918,\n",
       "  0.8324074149131775,\n",
       "  0.835185170173645,\n",
       "  0.835185170173645,\n",
       "  0.8370370268821716,\n",
       "  0.8379629850387573,\n",
       "  0.8407407402992249,\n",
       "  0.8425925970077515,\n",
       "  0.8462963104248047,\n",
       "  0.8444444537162781,\n",
       "  0.8472222089767456,\n",
       "  0.8472222089767456],\n",
       " 'val_loss': [1.7921427488327026,\n",
       "  1.7872204780578613,\n",
       "  1.7828618288040161,\n",
       "  1.7790977954864502,\n",
       "  1.7748695611953735,\n",
       "  1.7702661752700806,\n",
       "  1.7654896974563599,\n",
       "  1.7597813606262207,\n",
       "  1.7524956464767456,\n",
       "  1.743041753768921,\n",
       "  1.7339093685150146,\n",
       "  1.7229353189468384,\n",
       "  1.710748553276062,\n",
       "  1.6952903270721436,\n",
       "  1.6772090196609497,\n",
       "  1.656169056892395,\n",
       "  1.6329830884933472,\n",
       "  1.6048963069915771,\n",
       "  1.574448823928833,\n",
       "  1.5450351238250732,\n",
       "  1.5134268999099731,\n",
       "  1.4798563718795776,\n",
       "  1.4459311962127686,\n",
       "  1.4120566844940186,\n",
       "  1.3773798942565918,\n",
       "  1.3422154188156128,\n",
       "  1.3090306520462036,\n",
       "  1.2752368450164795,\n",
       "  1.2429015636444092,\n",
       "  1.21255362033844,\n",
       "  1.1833666563034058,\n",
       "  1.1554545164108276,\n",
       "  1.1307348012924194,\n",
       "  1.1027305126190186,\n",
       "  1.0775161981582642,\n",
       "  1.0534526109695435,\n",
       "  1.0332939624786377,\n",
       "  1.0117555856704712,\n",
       "  0.9927253723144531,\n",
       "  0.9752666354179382,\n",
       "  0.9564558863639832,\n",
       "  0.9427088499069214,\n",
       "  0.9258964657783508,\n",
       "  0.9109179377555847,\n",
       "  0.8969684839248657,\n",
       "  0.8826650977134705,\n",
       "  0.8676626682281494,\n",
       "  0.8559814691543579,\n",
       "  0.8420765399932861,\n",
       "  0.831828773021698,\n",
       "  0.8197639584541321,\n",
       "  0.8081873655319214,\n",
       "  0.7993213534355164,\n",
       "  0.7878761887550354,\n",
       "  0.7794591188430786,\n",
       "  0.7689487934112549,\n",
       "  0.7603362798690796,\n",
       "  0.7525510191917419,\n",
       "  0.7437811493873596,\n",
       "  0.7356329560279846,\n",
       "  0.7273643612861633,\n",
       "  0.7206841707229614,\n",
       "  0.7126399278640747,\n",
       "  0.7061378955841064,\n",
       "  0.6995421051979065,\n",
       "  0.6943348050117493,\n",
       "  0.6868051290512085,\n",
       "  0.6813089847564697,\n",
       "  0.6759801506996155,\n",
       "  0.6692079901695251,\n",
       "  0.6626592874526978,\n",
       "  0.6587819457054138,\n",
       "  0.6523638367652893,\n",
       "  0.6470633149147034,\n",
       "  0.6427565217018127,\n",
       "  0.6373364925384521,\n",
       "  0.6336785554885864,\n",
       "  0.6299437284469604,\n",
       "  0.6250585913658142,\n",
       "  0.6228161454200745,\n",
       "  0.6175209879875183,\n",
       "  0.6143147349357605,\n",
       "  0.61048424243927,\n",
       "  0.6062285304069519,\n",
       "  0.6038723587989807,\n",
       "  0.5993746519088745,\n",
       "  0.5963509678840637,\n",
       "  0.5922642946243286,\n",
       "  0.589370846748352,\n",
       "  0.5853786468505859,\n",
       "  0.5828993320465088,\n",
       "  0.5797998905181885,\n",
       "  0.576818585395813,\n",
       "  0.5741349458694458,\n",
       "  0.5707506537437439,\n",
       "  0.5682649612426758,\n",
       "  0.5652048587799072,\n",
       "  0.5624619722366333,\n",
       "  0.5607062578201294,\n",
       "  0.5558217763900757],\n",
       " 'val_accuracy': [0.17499999701976776,\n",
       "  0.21666666865348816,\n",
       "  0.15000000596046448,\n",
       "  0.19166666269302368,\n",
       "  0.21666666865348816,\n",
       "  0.2083333283662796,\n",
       "  0.25,\n",
       "  0.3166666626930237,\n",
       "  0.375,\n",
       "  0.42500001192092896,\n",
       "  0.42500001192092896,\n",
       "  0.4333333373069763,\n",
       "  0.4749999940395355,\n",
       "  0.46666666865348816,\n",
       "  0.4583333432674408,\n",
       "  0.46666666865348816,\n",
       "  0.46666666865348816,\n",
       "  0.4833333194255829,\n",
       "  0.4749999940395355,\n",
       "  0.4833333194255829,\n",
       "  0.49166667461395264,\n",
       "  0.4833333194255829,\n",
       "  0.4749999940395355,\n",
       "  0.4833333194255829,\n",
       "  0.4833333194255829,\n",
       "  0.5,\n",
       "  0.5,\n",
       "  0.5333333611488342,\n",
       "  0.550000011920929,\n",
       "  0.550000011920929,\n",
       "  0.574999988079071,\n",
       "  0.6000000238418579,\n",
       "  0.6083333492279053,\n",
       "  0.6333333253860474,\n",
       "  0.6416666507720947,\n",
       "  0.6499999761581421,\n",
       "  0.6583333611488342,\n",
       "  0.675000011920929,\n",
       "  0.675000011920929,\n",
       "  0.6916666626930237,\n",
       "  0.6833333373069763,\n",
       "  0.699999988079071,\n",
       "  0.699999988079071,\n",
       "  0.699999988079071,\n",
       "  0.6916666626930237,\n",
       "  0.699999988079071,\n",
       "  0.7166666388511658,\n",
       "  0.7166666388511658,\n",
       "  0.7250000238418579,\n",
       "  0.7333333492279053,\n",
       "  0.7333333492279053,\n",
       "  0.7416666746139526,\n",
       "  0.7416666746139526,\n",
       "  0.7416666746139526,\n",
       "  0.75,\n",
       "  0.75,\n",
       "  0.7583333253860474,\n",
       "  0.7416666746139526,\n",
       "  0.7666666507720947,\n",
       "  0.75,\n",
       "  0.7666666507720947,\n",
       "  0.7583333253860474,\n",
       "  0.7666666507720947,\n",
       "  0.7666666507720947,\n",
       "  0.7749999761581421,\n",
       "  0.7833333611488342,\n",
       "  0.7749999761581421,\n",
       "  0.7833333611488342,\n",
       "  0.7833333611488342,\n",
       "  0.7749999761581421,\n",
       "  0.7833333611488342,\n",
       "  0.7749999761581421,\n",
       "  0.7666666507720947,\n",
       "  0.7666666507720947,\n",
       "  0.7749999761581421,\n",
       "  0.7833333611488342,\n",
       "  0.7749999761581421,\n",
       "  0.7666666507720947,\n",
       "  0.7749999761581421,\n",
       "  0.7666666507720947,\n",
       "  0.7666666507720947,\n",
       "  0.7666666507720947,\n",
       "  0.7666666507720947,\n",
       "  0.7749999761581421,\n",
       "  0.7666666507720947,\n",
       "  0.7749999761581421,\n",
       "  0.7833333611488342,\n",
       "  0.7833333611488342,\n",
       "  0.7833333611488342,\n",
       "  0.7833333611488342,\n",
       "  0.7833333611488342,\n",
       "  0.7833333611488342,\n",
       "  0.7833333611488342,\n",
       "  0.7833333611488342,\n",
       "  0.7833333611488342,\n",
       "  0.7833333611488342,\n",
       "  0.7833333611488342,\n",
       "  0.7916666865348816,\n",
       "  0.7749999761581421,\n",
       "  0.7833333611488342]}"
      ]
     },
     "execution_count": 32,
     "metadata": {},
     "output_type": "execute_result"
    }
   ],
   "source": [
    "history.history"
   ]
  },
  {
   "cell_type": "markdown",
   "metadata": {},
   "source": [
    "Now visualize the loss over time using `history.history`: "
   ]
  },
  {
   "cell_type": "code",
   "execution_count": 33,
   "metadata": {},
   "outputs": [
    {
     "data": {
      "text/plain": [
       "[Text(0, 0.5, 'Accuracy'), Text(0.5, 0, 'Epoch')]"
      ]
     },
     "execution_count": 33,
     "metadata": {},
     "output_type": "execute_result"
    },
    {
     "data": {
      "image/png": "[encoded data removed]",
      "text/plain": [
       "<Figure size 864x576 with 1 Axes>"
      ]
     },
     "metadata": {
      "needs_background": "light"
     },
     "output_type": "display_data"
    },
    {
     "data": {
      "image/png": "[encoded data removed]",
      "text/plain": [
       "<Figure size 864x576 with 1 Axes>"
      ]
     },
     "metadata": {
      "needs_background": "light"
     },
     "output_type": "display_data"
    }
   ],
   "source": [
    "# The history.history[\"loss\"] entry is a dictionary with as many values as epochs that the\n",
    "# model was trained on. \n",
    "df_loss_acc = pd.DataFrame(history.history)\n",
    "df_loss= df_loss_acc[['loss','val_loss']]\n",
    "df_loss.rename(columns={'loss':'train','val_loss':'validation'},inplace=True)\n",
    "df_acc= df_loss_acc[['accuracy','val_accuracy']]\n",
    "df_acc.rename(columns={'accuracy':'train','val_accuracy':'validation'},inplace=True)\n",
    "df_loss.plot(title='Model loss',figsize=(12,8)).set(xlabel='Epoch',ylabel='Loss')\n",
    "df_acc.plot(title='Model Accuracy',figsize=(12,8)).set(xlabel='Epoch',ylabel='Accuracy')"
   ]
  },
  {
   "cell_type": "markdown",
   "metadata": {},
   "source": [
    "**Congratulations**! You've finished the assignment and built two models: One that recognizes  smiles, and another that recognizes SIGN language with almost 80% accuracy on the test set. In addition to that, you now also understand the applications of two Keras APIs: Sequential and Functional. Nicely done! \n",
    "\n",
    "By now, you know a bit about how the Functional API works and may have glimpsed the possibilities. In your next assignment, you'll really get a feel for its power when you get the opportunity to build a very deep ConvNet, using ResNets! "
   ]
  },
  {
   "cell_type": "markdown",
   "metadata": {},
   "source": [
    "<a name='6'></a>\n",
    "## 6 - Bibliography\n",
    "\n",
    "You're always encouraged to read the official documentation. To that end, you can find the docs for the Sequential and Functional APIs here: \n",
    "\n",
    "https://www.tensorflow.org/guide/keras/sequential_model\n",
    "\n",
    "https://www.tensorflow.org/guide/keras/functional"
   ]
  }
 ],
 "metadata": {
  "coursera": {
   "course_slug": "convolutional-neural-networks",
   "graded_item_id": "bwbJV",
   "launcher_item_id": "0TkXB"
  },
  "kernelspec": {
   "display_name": "Python 3",
   "language": "python",
   "name": "python3"
  },
  "language_info": {
   "codemirror_mode": {
    "name": "ipython",
    "version": 3
   },
   "file_extension": ".py",
   "mimetype": "text/x-python",
   "name": "python",
   "nbconvert_exporter": "python",
   "pygments_lexer": "ipython3",
   "version": "3.7.3"
  }
 },
 "nbformat": 4,
 "nbformat_minor": 2
}
